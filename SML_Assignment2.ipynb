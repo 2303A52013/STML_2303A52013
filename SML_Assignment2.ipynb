{
  "nbformat": 4,
  "nbformat_minor": 0,
  "metadata": {
    "colab": {
      "provenance": [],
      "authorship_tag": "ABX9TyNESvlJZ//UOakJDqSmYRv+",
      "include_colab_link": true
    },
    "kernelspec": {
      "name": "python3",
      "display_name": "Python 3"
    },
    "language_info": {
      "name": "python"
    }
  },
  "cells": [
    {
      "cell_type": "markdown",
      "metadata": {
        "id": "view-in-github",
        "colab_type": "text"
      },
      "source": [
        "<a href=\"https://colab.research.google.com/github/2303A52013/STML_2303A52013/blob/main/SML_Assignment2.ipynb\" target=\"_parent\"><img src=\"https://colab.research.google.com/assets/colab-badge.svg\" alt=\"Open In Colab\"/></a>"
      ]
    },
    {
      "cell_type": "code",
      "execution_count": null,
      "metadata": {
        "id": "ak7lZulcchO6"
      },
      "outputs": [],
      "source": [
        "import matplotlib.pyplot as plt\n",
        "import numpy as np"
      ]
    },
    {
      "cell_type": "code",
      "source": [
        "X = [1.3,1.5,2.6,2.6,3.2,3.9,4.2,3.7,3.10,3.0,11,6.7,1.9]"
      ],
      "metadata": {
        "id": "C8C_cdf1dChv"
      },
      "execution_count": null,
      "outputs": []
    },
    {
      "cell_type": "code",
      "source": [
        "plt.hist(X, bins=5, edgecolor='black')\n",
        "plt.ylabrl = ('Frequency')\n",
        "plt.xlabel = ('Values')\n",
        "plt.title = ('Histogram')\n",
        "plt.show()"
      ],
      "metadata": {
        "colab": {
          "base_uri": "https://localhost:8080/",
          "height": 430
        },
        "id": "WCqXI2QWdLGV",
        "outputId": "610e90e7-f39f-4b54-c3b1-496b13e57b7e"
      },
      "execution_count": null,
      "outputs": [
        {
          "output_type": "display_data",
          "data": {
            "text/plain": [
              "<Figure size 640x480 with 1 Axes>"
            ],
            "image/png": "[encoded data removed]"
          },
          "metadata": {}
        }
      ]
    },
    {
      "cell_type": "code",
      "source": [
        "from scipy import stats"
      ],
      "metadata": {
        "id": "vwMjusamhYyr"
      },
      "execution_count": null,
      "outputs": []
    },
    {
      "cell_type": "code",
      "source": [
        "x = [12, 13, 56, 23, 41, 28, 51] # Dependent variables\n",
        "y = [51, 63, 37, 88, 33, 71, 81] # Independent variables"
      ],
      "metadata": {
        "id": "7CYp0aCrgxHP"
      },
      "execution_count": null,
      "outputs": []
    },
    {
      "cell_type": "code",
      "source": [
        "x_mean = np.mean(x)\n",
        "y_mean = np.mean(y)\n",
        "\n",
        "x_median = np.median(x)\n",
        "y_median = np.median(y)\n",
        "\n",
        "x_mode = stats.mode(x)\n",
        "y_mode = stats.mode(y)\n",
        "\n",
        "x_std = np.std(x)\n",
        "y_std = np.std(y)\n",
        "\n",
        "x_iqr = stats.iqr(x)\n",
        "y_iqr = stats.iqr(y)\n",
        "\n",
        "x_std = np.std(x)\n",
        "y_std = np.std(y)\n",
        "\n",
        "x_var = np.var(x)\n",
        "y_var = np.var(y)\n",
        "\n",
        "x_range = np.max(x)\n",
        "y_range = np.max(y)\n",
        "\n",
        "x_skew = stats.skew(x)\n",
        "y_skew = stats.skew(y)\n",
        "\n",
        "x_kurt = stats.kurtosis(x)\n",
        "y_kurt = stats.kurtosis(y)"
      ],
      "metadata": {
        "id": "ur8z10vyhKWh"
      },
      "execution_count": null,
      "outputs": []
    },
    {
      "cell_type": "code",
      "source": [
        "print(\"Mean of x: \", x_mean)\n",
        "print(\"Median of x: \",x_median)\n",
        "print(\"Mode of x: \", x_mode)\n",
        "print(\"Range of x: \", x_range)\n",
        "print(\"Standard deviation of x: \", x_std)\n",
        "print(\"Interquatile Range of x: \", x_iqr)\n",
        "print(\"Variance of x: \", x_var)\n",
        "print(\"Skewness of x: \", x_skew)\n",
        "print(\"Kurtosis of x: \", x_kurt)"
      ],
      "metadata": {
        "colab": {
          "base_uri": "https://localhost:8080/"
        },
        "id": "nJvRoKYfhiZC",
        "outputId": "11d2c8f7-8637-4450-be2d-c37d73acaf4b"
      },
      "execution_count": null,
      "outputs": [
        {
          "output_type": "stream",
          "name": "stdout",
          "text": [
            "Mean of x:  32.0\n",
            "Median of x:  28.0\n",
            "Mode of x:  ModeResult(mode=12, count=1)\n",
            "Range of x:  56\n",
            "Standard deviation of x:  16.3707055437449\n",
            "Interquatile Range of x:  28.0\n",
            "Variance of x:  268.0\n",
            "Skewness of x:  0.18755223867066048\n",
            "Kurtosis of x:  -1.47684021258314\n"
          ]
        }
      ]
    },
    {
      "cell_type": "code",
      "source": [
        "print(\"Mean of y: \", y_mean)\n",
        "print(\"Median of y: \",y_median)\n",
        "print(\"Mode of y: \", y_mode)\n",
        "print(\"Range of y: \", y_range)\n",
        "print(\"Standard deviation of y: \", y_std)\n",
        "print(\"Interquatile Range of y: \", y_iqr)\n",
        "print(\"Variance of y: \", y_var)\n",
        "print(\"Skewness of y: \", y_skew)\n",
        "print(\"Kurtosis of y: \", y_kurt)"
      ],
      "metadata": {
        "colab": {
          "base_uri": "https://localhost:8080/"
        },
        "id": "lAf-nKVfhvLc",
        "outputId": "2ad8b8f5-5899-4832-be38-5f655605e5f4"
      },
      "execution_count": null,
      "outputs": [
        {
          "output_type": "stream",
          "name": "stdout",
          "text": [
            "Mean of y:  60.57142857142857\n",
            "Median of y:  63.0\n",
            "Mode of y:  ModeResult(mode=33, count=1)\n",
            "Range of y:  88\n",
            "Standard deviation of y:  19.60945211485772\n",
            "Interquatile Range of y:  32.0\n",
            "Variance of y:  384.5306122448979\n",
            "Skewness of y:  -0.08759770675963528\n",
            "Kurtosis of y:  -1.408770987394423\n"
          ]
        }
      ]
    },
    {
      "cell_type": "code",
      "source": [
        "import pandas as pd"
      ],
      "metadata": {
        "id": "KloNqDxyhvP2"
      },
      "execution_count": null,
      "outputs": []
    },
    {
      "cell_type": "code",
      "source": [
        "h = pd.read_csv('housing.csv')\n",
        "p = h['population']\n",
        "lg = h['longitude']\n",
        "lt = h['latitude']\n",
        "h_med = h['median_house_value']\n",
        "h_age = h['housing_median_age']\n",
        "t_rooms = h['total_rooms']\n",
        "t_bedrooms = h['total_bedrooms']\n",
        "households = h['households']\n",
        "med_income = h['median_income']\n",
        "\n",
        "\n",
        "longitude = lg.to_numpy()\n",
        "latitude = lt.to_numpy()\n",
        "population = p.to_numpy()\n",
        "households = households.to_numpy()\n",
        "median_income = med_income.to_numpy()\n",
        "total_rooms = t_rooms.to_numpy()\n",
        "total_bedrooms = t_bedrooms.to_numpy()\n",
        "shouse_median_age = h_age.to_numpy()\n",
        "median_house_value = h_med.to_numpy()"
      ],
      "metadata": {
        "id": "W2LUtoJMiNYs"
      },
      "execution_count": null,
      "outputs": []
    },
    {
      "cell_type": "code",
      "source": [
        "longitude_mean = np.mean(longitude)\n",
        "longitude_median = np.median(longitude)\n",
        "longitude_mode = stats.mode(longitude)\n",
        "longitude_range = np.max(longitude)\n",
        "longitude_var = np.var(longitude)\n",
        "longitude_std = np.std(longitude)\n",
        "longitude_iqr = stats.iqr(longitude)\n",
        "longitude_skew = stats.skew(longitude)\n",
        "longitude_kurt = stats.kurtosis(longitude)\n",
        "\n",
        "print(\"Mean of longitude: \", longitude_mean)\n",
        "print(\"Median of longitude: \",longitude_median)\n",
        "print(\"Mode of longitude: \", longitude_mode)\n",
        "print(\"Range of longitude: \", longitude_range)\n",
        "print(\"Standard deviation of longitude: \", longitude_std)\n",
        "print(\"Interquatile Range of longitude: \", longitude_iqr)\n",
        "print(\"Variance of longitude: \", longitude_var)\n",
        "print(\"Skewness of longitude: \", longitude_skew)\n",
        "print(\"Kurtosis of longitude: \", longitude_kurt)"
      ],
      "metadata": {
        "colab": {
          "base_uri": "https://localhost:8080/"
        },
        "id": "PySJaVFsiZ6v",
        "outputId": "4e0cbcf0-ce59-41df-b3b8-6d8fe4618f57"
      },
      "execution_count": null,
      "outputs": [
        {
          "output_type": "stream",
          "name": "stdout",
          "text": [
            "Mean of longitude:  -119.56970445736432\n",
            "Median of longitude:  -118.49\n",
            "Mode of longitude:  ModeResult(mode=-118.31, count=162)\n",
            "Range of longitude:  -114.31\n",
            "Standard deviation of longitude:  2.003483187746976\n",
            "Interquatile Range of longitude:  3.789999999999992\n",
            "Variance of longitude:  4.0139448835847835\n",
            "Skewness of longitude:  -0.29777956498586855\n",
            "Kurtosis of longitude:  -1.3301208448425363\n"
          ]
        }
      ]
    },
    {
      "cell_type": "code",
      "source": [
        "latitude_mean = np.mean(latitude)\n",
        "latitude_median = np.median(latitude)\n",
        "latitude_mode = stats.mode(latitude)\n",
        "latitude_range = np.max(latitude)\n",
        "latitude_var = np.var(latitude)\n",
        "latitude_std = np.std(latitude)\n",
        "latitude_iqr = stats.iqr(latitude)\n",
        "latitude_skew = stats.skew(latitude)\n",
        "latitude_kurt = stats.kurtosis(latitude)\n",
        "\n",
        "print(\"Mean of latitude: \", latitude_mean)\n",
        "print(\"Median of latitude: \",latitude_median)\n",
        "print(\"Mode of latitude: \", latitude_mode)\n",
        "print(\"Range of latitude: \", latitude_range)\n",
        "print(\"Standard deviation of latitude: \", latitude_std)\n",
        "print(\"Interquatile Range of latitude: \", latitude_iqr)\n",
        "print(\"Variance of latitude: \", latitude_var)\n",
        "print(\"Skewness of latitude: \", latitude_skew)\n",
        "print(\"Kurtosis of latitude: \", latitude_kurt)"
      ],
      "metadata": {
        "colab": {
          "base_uri": "https://localhost:8080/"
        },
        "id": "rLYkA5U6iaNu",
        "outputId": "310de8cd-8b7e-4846-f862-bc38b41a6a9c"
      },
      "execution_count": null,
      "outputs": [
        {
          "output_type": "stream",
          "name": "stdout",
          "text": [
            "Mean of latitude:  35.63186143410853\n",
            "Median of latitude:  34.26\n",
            "Mode of latitude:  ModeResult(mode=34.06, count=244)\n",
            "Range of latitude:  41.95\n",
            "Standard deviation of latitude:  2.135900653797483\n",
            "Interquatile Range of latitude:  3.780000000000001\n",
            "Variance of latitude:  4.562071602892517\n",
            "Skewness of latitude:  0.46591914016270397\n",
            "Kurtosis of latitude:  -1.117779708313892\n"
          ]
        }
      ]
    },
    {
      "cell_type": "code",
      "source": [
        "population_mean = np.mean(population)\n",
        "population_median = np.median(population)\n",
        "population_mode = stats.mode(population)\n",
        "population_range = np.max(population)\n",
        "population_var = np.var(population)\n",
        "population_std = np.std(population)\n",
        "population_iqr = stats.iqr(population)\n",
        "population_skew = stats.skew(population)\n",
        "population_kurt = stats.kurtosis(population)\n",
        "\n",
        "print(\"Mean of population: \", population_mean)\n",
        "print(\"Median of population: \",population_median)\n",
        "print(\"Mode of population: \", population_mode)\n",
        "print(\"Range of population: \", population_range)\n",
        "print(\"Standard deviation of population: \", population_std)\n",
        "print(\"Interquatile Range of population: \", population_iqr)\n",
        "print(\"Variance of population: \", population_var)\n",
        "print(\"Skewness of population: \", population_skew)\n",
        "print(\"Kurtosis of population: \", population_kurt)"
      ],
      "metadata": {
        "colab": {
          "base_uri": "https://localhost:8080/"
        },
        "id": "KH4pNl5Jikrs",
        "outputId": "7214214c-fb2a-4dc7-e0a8-de82ecbd19ae"
      },
      "execution_count": null,
      "outputs": [
        {
          "output_type": "stream",
          "name": "stdout",
          "text": [
            "Mean of population:  1425.4767441860465\n",
            "Median of population:  1166.0\n",
            "Mode of population:  ModeResult(mode=891.0, count=25)\n",
            "Range of population:  35682.0\n",
            "Standard deviation of population:  1132.434687757615\n",
            "Interquatile Range of population:  938.0\n",
            "Variance of population:  1282408.3220366866\n",
            "Skewness of population:  4.93549950885852\n",
            "Kurtosis of population:  73.53500881922278\n"
          ]
        }
      ]
    },
    {
      "cell_type": "code",
      "source": [
        "households_mean = np.mean(households)\n",
        "households_median = np.median(households)\n",
        "households_mode = stats.mode(households)\n",
        "households_range = np.max(households)\n",
        "households_var = np.var(households)\n",
        "households_std = np.std(households)\n",
        "households_iqr = stats.iqr(households)\n",
        "households_skew = stats.skew(households)\n",
        "households_kurt = stats.kurtosis(households)\n",
        "\n",
        "print(\"Mean of households: \", households_mean)\n",
        "print(\"Median of households: \",households_median)\n",
        "print(\"Mode of households: \", households_mode)\n",
        "print(\"Range of households: \", households_range)\n",
        "print(\"Standard deviation of households: \", households_std)\n",
        "print(\"Interquatile Range of households: \", households_iqr)\n",
        "print(\"Variance of households: \", households_var)\n",
        "print(\"Skewness of households: \", households_skew)\n",
        "print(\"Kurtosis of households: \", households_kurt)"
      ],
      "metadata": {
        "colab": {
          "base_uri": "https://localhost:8080/"
        },
        "id": "yoBNTo2dikvs",
        "outputId": "f8cfe059-357c-4b96-8403-80d89d0cf6e2"
      },
      "execution_count": null,
      "outputs": [
        {
          "output_type": "stream",
          "name": "stdout",
          "text": [
            "Mean of households:  499.5396802325581\n",
            "Median of households:  409.0\n",
            "Mode of households:  ModeResult(mode=306.0, count=57)\n",
            "Range of households:  6082.0\n",
            "Standard deviation of households:  382.3204908552571\n",
            "Interquatile Range of households:  325.0\n",
            "Variance of households:  146168.95772780472\n",
            "Skewness of households:  3.4101898550856307\n",
            "Kurtosis of households:  22.052354233642966\n"
          ]
        }
      ]
    },
    {
      "cell_type": "code",
      "source": [
        "median_income_mean = np.mean(median_income)\n",
        "median_income_median = np.median(median_income)\n",
        "median_income_mode = stats.mode(median_income)\n",
        "median_income_range = np.max(median_income)\n",
        "median_income_var = np.var(median_income)\n",
        "median_income_std = np.std(median_income)\n",
        "median_income_iqr = stats.iqr(median_income)\n",
        "median_income_skew = stats.skew(median_income)\n",
        "median_income_kurt = stats.kurtosis(median_income)\n",
        "\n",
        "print(\"Mean of median income: \", median_income_mean)\n",
        "print(\"Median of median income: \",median_income_median)\n",
        "print(\"Mode of median income: \", median_income_mode)\n",
        "print(\"Range of median income: \", median_income_range)\n",
        "print(\"Standard deviation of median income: \", median_income_std)\n",
        "print(\"Interquatile Range of median income: \", median_income_iqr)\n",
        "print(\"Variance of median income: \", median_income_var)\n",
        "print(\"Skewness of median income: \", median_income_skew)\n",
        "print(\"Kurtosis of median income: \", median_income_kurt)"
      ],
      "metadata": {
        "colab": {
          "base_uri": "https://localhost:8080/"
        },
        "id": "ZlCCVEXpik2y",
        "outputId": "1729e21a-9b6a-4830-e667-89195fc4c60b"
      },
      "execution_count": null,
      "outputs": [
        {
          "output_type": "stream",
          "name": "stdout",
          "text": [
            "Mean of median income:  3.8706710029069766\n",
            "Median of median income:  3.5347999999999997\n",
            "Mode of median income:  ModeResult(mode=3.125, count=49)\n",
            "Range of median income:  15.0001\n",
            "Standard deviation of median income:  1.8997756945748738\n",
            "Interquatile Range of median income:  2.17985\n",
            "Variance of median income:  3.609147689697444\n",
            "Skewness of median income:  1.64653702990008\n",
            "Kurtosis of median income:  4.951033760409659\n"
          ]
        }
      ]
    },
    {
      "cell_type": "code",
      "source": [
        "total_rooms_mean = np.mean(total_rooms)\n",
        "total_rooms_median = np.median(total_rooms)\n",
        "total_rooms_mode = stats.mode(total_rooms)\n",
        "total_rooms_range = np.max(total_rooms)\n",
        "total_rooms_var = np.var(total_rooms)\n",
        "total_rooms_std = np.std(total_rooms)\n",
        "total_rooms_iqr = stats.iqr(total_rooms)\n",
        "total_rooms_skew = stats.skew(total_rooms)\n",
        "total_rooms_kurt = stats.kurtosis(total_rooms)\n",
        "\n",
        "print(\"Mean of total rooms: \", total_rooms_mean)\n",
        "print(\"Median of total rooms: \",total_rooms_median)\n",
        "print(\"Mode of total rooms: \", total_rooms_mode)\n",
        "print(\"Range of total rooms: \", total_rooms_range)\n",
        "print(\"Standard deviation of total rooms: \", total_rooms_std)\n",
        "print(\"Interquatile Range of total rooms: \", total_rooms_iqr)\n",
        "print(\"Variance of total rooms: \", total_rooms_var)\n",
        "print(\"Skewness of total rooms: \", total_rooms_skew)\n",
        "print(\"Kurtosis of total rooms: \", total_rooms_kurt)"
      ],
      "metadata": {
        "colab": {
          "base_uri": "https://localhost:8080/"
        },
        "id": "LuPlGbd7ik6g",
        "outputId": "2a158488-c8ed-4301-e13a-0aa8a878b525"
      },
      "execution_count": null,
      "outputs": [
        {
          "output_type": "stream",
          "name": "stdout",
          "text": [
            "Mean of total rooms:  2635.7630813953488\n",
            "Median of total rooms:  2127.0\n",
            "Mode of total rooms:  ModeResult(mode=1527.0, count=18)\n",
            "Range of total rooms:  39320.0\n",
            "Standard deviation of total rooms:  2181.5624017359723\n",
            "Interquatile Range of total rooms:  1700.25\n",
            "Variance of total rooms:  4759214.512668024\n",
            "Skewness of total rooms:  4.147042038773343\n",
            "Kurtosis of total rooms:  32.6227320729488\n"
          ]
        }
      ]
    },
    {
      "cell_type": "code",
      "source": [
        "total_bedrooms_mean = np.mean(total_bedrooms)\n",
        "total_bedrooms_median = np.median(total_bedrooms)\n",
        "total_bedrooms_mode = stats.mode(total_bedrooms)\n",
        "total_bedrooms_range = np.max(total_bedrooms)\n",
        "total_bedrooms_var = np.var(total_bedrooms)\n",
        "total_bedrooms_std = np.std(total_bedrooms)\n",
        "total_bedrooms_iqr = stats.iqr(total_bedrooms)\n",
        "total_bedrooms_skew = stats.skew(total_bedrooms)\n",
        "total_bedrooms_kurt = stats.kurtosis(total_bedrooms)\n",
        "\n",
        "print(\"Mean of total bedrooms: \", total_bedrooms_mean)\n",
        "print(\"Median of total bedrooms: \",total_bedrooms_median)\n",
        "print(\"Mode of total bedrooms: \", total_bedrooms_mode)\n",
        "print(\"Range of total bedrooms: \", total_bedrooms_range)\n",
        "print(\"Standard deviation of total bedrooms: \", total_bedrooms_std)\n",
        "print(\"Interquatile Range of total bedrooms: \", total_bedrooms_iqr)\n",
        "print(\"Variance of total bedrooms: \", total_bedrooms_var)\n",
        "print(\"Skewness of total bedrooms: \", total_bedrooms_skew)\n",
        "print(\"Kurtosis of total bedrooms: \", total_bedrooms_kurt)"
      ],
      "metadata": {
        "colab": {
          "base_uri": "https://localhost:8080/"
        },
        "id": "uf95EyoMik-b",
        "outputId": "b15d02ee-5527-4fae-8084-d3a856777f9b"
      },
      "execution_count": null,
      "outputs": [
        {
          "output_type": "stream",
          "name": "stdout",
          "text": [
            "Mean of total bedrooms:  nan\n",
            "Median of total bedrooms:  nan\n",
            "Mode of total bedrooms:  ModeResult(mode=nan, count=207)\n",
            "Range of total bedrooms:  nan\n",
            "Standard deviation of total bedrooms:  nan\n",
            "Interquatile Range of total bedrooms:  nan\n",
            "Variance of total bedrooms:  nan\n",
            "Skewness of total bedrooms:  nan\n",
            "Kurtosis of total bedrooms:  nan\n"
          ]
        }
      ]
    },
    {
      "cell_type": "code",
      "source": [
        "housing_median_age_mean = np.mean(median_house_value)\n",
        "housing_median_age_median = np.median(median_house_value)\n",
        "housing_median_age_mode = stats.mode(median_house_value)\n",
        "housing_median_age_range = np.max(median_house_value)\n",
        "housing_median_age_var = np.var(median_house_value)\n",
        "housing_median_age_std = np.std(median_house_value)\n",
        "housing_median_age_iqr = stats.iqr(median_house_value)\n",
        "housing_median_age_skew = stats.skew(median_house_value)\n",
        "housing_median_age_kurt = stats.kurtosis(median_house_value)\n",
        "\n",
        "print(\"Mean of housing median age: \", housing_median_age_mean)\n",
        "print(\"Median of housing median age: \",housing_median_age_median)\n",
        "print(\"Mode of housing median age: \", housing_median_age_mode)\n",
        "print(\"Range of housing median age: \", housing_median_age_range)\n",
        "print(\"Standard deviation of housing median age: \", housing_median_age_std)\n",
        "print(\"Interquatile Range of housing median age: \", housing_median_age_iqr)\n",
        "print(\"Variance of housing median age: \", housing_median_age_var)\n",
        "print(\"Skewness of housing median age: \", housing_median_age_skew)\n",
        "print(\"Kurtosis of housing median age: \", housing_median_age_kurt)"
      ],
      "metadata": {
        "colab": {
          "base_uri": "https://localhost:8080/"
        },
        "id": "PAruBayDi9UY",
        "outputId": "a1bc04a1-ef5c-4e03-cf8e-d01234034a8c"
      },
      "execution_count": null,
      "outputs": [
        {
          "output_type": "stream",
          "name": "stdout",
          "text": [
            "Mean of housing median age:  206855.81690891474\n",
            "Median of housing median age:  179700.0\n",
            "Mode of housing median age:  ModeResult(mode=500001.0, count=965)\n",
            "Range of housing median age:  500001.0\n",
            "Standard deviation of housing median age:  115392.82040412253\n",
            "Interquatile Range of housing median age:  145125.0\n",
            "Variance of housing median age:  13315503000.818077\n",
            "Skewness of housing median age:  0.9776922140978416\n",
            "Kurtosis of housing median age:  0.3275001388119616\n"
          ]
        }
      ]
    },
    {
      "cell_type": "code",
      "source": [
        "median_house_value_mean = np.mean(median_house_value)\n",
        "median_house_value_median = np.median(median_house_value)\n",
        "median_house_value_mode = stats.mode(median_house_value)\n",
        "median_house_value_range = np.max(median_house_value)\n",
        "median_house_value_var = np.var(median_house_value)\n",
        "median_house_value_std = np.std(median_house_value)\n",
        "median_house_value_iqr = stats.iqr(median_house_value)\n",
        "median_house_value_skew = stats.skew(median_house_value)\n",
        "median_house_value_kurt = stats.kurtosis(median_house_value)\n",
        "\n",
        "print(\"Mean of median house value: \", median_house_value_mean)\n",
        "print(\"Median of median house value: \",median_house_value_median)\n",
        "print(\"Mode of median house value: \", median_house_value_mode)\n",
        "print(\"Range of median house value: \", median_house_value_range)\n",
        "print(\"Standard deviation of median house value: \", median_house_value_std)\n",
        "print(\"Interquatile Range of median house value: \", median_house_value_iqr)\n",
        "print(\"Variance of median house value: \", median_house_value_var)\n",
        "print(\"Skewness of median house value: \", median_house_value_skew)\n",
        "print(\"Kurtosis of median house value: \", median_house_value_kurt)"
      ],
      "metadata": {
        "colab": {
          "base_uri": "https://localhost:8080/"
        },
        "id": "3Mts_d8Bi9Xy",
        "outputId": "b0b923c3-4010-46b8-f65f-25163a1df403"
      },
      "execution_count": null,
      "outputs": [
        {
          "output_type": "stream",
          "name": "stdout",
          "text": [
            "Mean of median house value:  206855.81690891474\n",
            "Median of median house value:  179700.0\n",
            "Mode of median house value:  ModeResult(mode=500001.0, count=965)\n",
            "Range of median house value:  500001.0\n",
            "Standard deviation of median house value:  115392.82040412253\n",
            "Interquatile Range of median house value:  145125.0\n",
            "Variance of median house value:  13315503000.818077\n",
            "Skewness of median house value:  0.9776922140978416\n",
            "Kurtosis of median house value:  0.3275001388119616\n"
          ]
        }
      ]
    }
  ]
}